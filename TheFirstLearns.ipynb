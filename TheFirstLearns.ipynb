{
  "nbformat": 4,
  "nbformat_minor": 0,
  "metadata": {
    "colab": {
      "name": "Untitled0.ipynb",
      "version": "0.3.2",
      "provenance": [],
      "include_colab_link": true
    },
    "kernelspec": {
      "name": "python3",
      "display_name": "Python 3"
    }
  },
  "cells": [
    {
      "cell_type": "markdown",
      "metadata": {
        "id": "view-in-github",
        "colab_type": "text"
      },
      "source": [
        "<a href=\"https://colab.research.google.com/github/JhonSummer/MachineLearnings/blob/master/TheFirstLearns.ipynb\" target=\"_parent\"><img src=\"https://colab.research.google.com/assets/colab-badge.svg\" alt=\"Open In Colab\"/></a>"
      ]
    },
    {
      "cell_type": "code",
      "metadata": {
        "id": "OmE6u_JV6-hy",
        "colab_type": "code",
        "colab": {}
      },
      "source": [
        ""
      ],
      "execution_count": 0,
      "outputs": []
    },
    {
      "cell_type": "markdown",
      "metadata": {
        "id": "6bM6hGTc8CqX",
        "colab_type": "text"
      },
      "source": [
        ""
      ]
    },
    {
      "cell_type": "markdown",
      "metadata": {
        "id": "Q0TSkHMs7Z2l",
        "colab_type": "text"
      },
      "source": [
        "The results and prediction improve upon iteration\n",
        "<br>\n",
        "Andrew Ng's definition stated->\n",
        "<br> \n",
        "<b>Machine learning is the science of getting computers to act without being explicitly programmed </b>\n",
        "<br>\n",
        "The task T is being programed with repetition\n",
        "<br>\n",
        "\n"
      ]
    },
    {
      "cell_type": "code",
      "metadata": {
        "id": "lDhoGf4Z8Ltd",
        "colab_type": "code",
        "colab": {}
      },
      "source": [
        "import pandas as pd\n",
        "import numpy as np\n",
        "import matplotlib.pyplot as plt\n",
        "%matplotlib inline\n",
        "from sklearn.linear_model import LinearRegression\n",
        "from sklearn.model_selection import train_test_split, cross_val_score\n",
        "from sklearn.metrics import mean_squared_error\n",
        "houses = pd.read_csv(\"/Users/vamseemuppavarapu/Desktop/Python-Anokha/Linear Regression/kc_house_data.csv\")\n",
        "houses.head()"
      ],
      "execution_count": 0,
      "outputs": []
    }
  ]
}